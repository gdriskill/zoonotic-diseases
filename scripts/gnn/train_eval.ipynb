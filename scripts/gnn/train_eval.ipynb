{
 "cells": [
  {
   "cell_type": "markdown",
   "metadata": {},
   "source": [
    "# Graph Neural Networks to Predict Missing Virus-Host Links"
   ]
  },
  {
   "cell_type": "code",
   "execution_count": 1,
   "metadata": {},
   "outputs": [],
   "source": [
    "import os\n",
    "import pandas as pd\n",
    "import torch\n",
    "\n",
    "from torch_geometric import seed_everything\n",
    "seed_everything(12345)"
   ]
  },
  {
   "cell_type": "markdown",
   "metadata": {},
   "source": [
    "## Mammalian Data from Divide & Conquer"
   ]
  },
  {
   "cell_type": "code",
   "execution_count": 2,
   "metadata": {},
   "outputs": [],
   "source": [
    "host_features_path = os.path.join('..', '..', 'data', 'divide_and_conqour', 'final_mammal_features.csv')\n",
    "viral_features_path = os.path.join('..', '..', 'data', 'divide_and_conqour', 'final_virus_features.csv')\n",
    "interactions_path = os.path.join('..', '..', 'data', 'divide_and_conqour', 'final_interactions.csv')\n",
    "\n",
    "host_feats = pd.read_csv(host_features_path)\n",
    "viral_feats = pd.read_csv(viral_features_path)\n",
    "interactions = pd.read_csv(interactions_path)"
   ]
  },
  {
   "cell_type": "markdown",
   "metadata": {},
   "source": [
    "This implementation is informed by the following PyG [tutorial](https://medium.com/@pytorch_geometric/link-prediction-on-heterogeneous-graphs-with-pyg-6d5c29677c70). The pathogen and host ID values uniquely identify the entities in our study, but they're also massive numbers. For data compactness, we will create a mapping from those to consecutive values in the range [0, num_entries]."
   ]
  },
  {
   "cell_type": "code",
   "execution_count": 3,
   "metadata": {},
   "outputs": [
    {
     "name": "stdout",
     "output_type": "stream",
     "text": [
      "Head of the host id mapping DF:\n",
      "     hostID  mappedID\n",
      "0  3433010         0\n",
      "1  3433020         1\n",
      "2  3433026         2\n",
      "3  3433081         3\n",
      "4  3433091         4\n",
      "\n",
      "Head of the virus id mapping DF:\n",
      "    virusID  mappedID\n",
      "0  1195280         0\n",
      "1  1195281         1\n",
      "2  1195282         2\n",
      "3  1195283         3\n",
      "4  1195284         4\n"
     ]
    }
   ],
   "source": [
    "unique_host_ids = host_feats['hostid'].unique()\n",
    "host_id_mapping = pd.DataFrame(data={\n",
    "    'hostID': unique_host_ids,\n",
    "    'mappedID': pd.RangeIndex(len(unique_host_ids))\n",
    "})\n",
    "print(\"Head of the host id mapping DF:\\n\", host_id_mapping.head())\n",
    "\n",
    "unique_virus_ids = viral_feats['pathogenid'].unique()\n",
    "virus_id_mapping = pd.DataFrame(data={\n",
    "    'virusID': unique_virus_ids,\n",
    "    'mappedID': pd.RangeIndex(len(unique_virus_ids))\n",
    "})\n",
    "print(\"\\nHead of the virus id mapping DF:\\n\", virus_id_mapping.head())"
   ]
  },
  {
   "cell_type": "markdown",
   "metadata": {},
   "source": [
    "Now for interactions, we will create a torch matrix of shape ```(2, num_interactions)```. To do this, we will first use merges to get the corresponding mappedIDs."
   ]
  },
  {
   "cell_type": "code",
   "execution_count": 4,
   "metadata": {},
   "outputs": [
    {
     "name": "stdout",
     "output_type": "stream",
     "text": [
      "torch.Size([2, 6192])\n"
     ]
    }
   ],
   "source": [
    "interactions_host_ids = pd.merge(interactions['hostID'], host_id_mapping, left_on='hostID', right_on='hostID', how='left')\n",
    "interactions_host_ids = torch.from_numpy(interactions_host_ids['mappedID'].values)\n",
    "\n",
    "interactions_virus_ids = pd.merge(interactions['pathogenID'], virus_id_mapping, left_on='pathogenID', right_on='virusID', how='left')\n",
    "interactions_virus_ids = torch.from_numpy(interactions_virus_ids['mappedID'].values)\n",
    "\n",
    "edge_index_virus_to_host = torch.stack([interactions_virus_ids, interactions_host_ids], dim=0)\n",
    "print(edge_index_virus_to_host.shape)"
   ]
  },
  {
   "cell_type": "markdown",
   "metadata": {},
   "source": [
    "PyG's tutorial for link prediction on heterogenous graphs recommends using their ```HeteroData``` object instead of a traditional Torch ```Dataset```."
   ]
  },
  {
   "cell_type": "code",
   "execution_count": 5,
   "metadata": {},
   "outputs": [
    {
     "name": "stdout",
     "output_type": "stream",
     "text": [
      "HeteroData(\n",
      "  virus={\n",
      "    node_id=[1885],\n",
      "    x=[1885, 30],\n",
      "  },\n",
      "  host={\n",
      "    node_id=[1312],\n",
      "    x=[1312, 63],\n",
      "  },\n",
      "  (virus, infects, host)={ edge_index=[2, 6192] },\n",
      "  (host, rev_infects, virus)={ edge_index=[2, 6192] }\n",
      ")\n"
     ]
    }
   ],
   "source": [
    "from torch_geometric.data import HeteroData\n",
    "import torch_geometric.transforms as T\n",
    "\n",
    "device = 'cuda' if torch.cuda.is_available() else 'cpu'\n",
    "\n",
    "data = HeteroData()\n",
    "\n",
    "# For each class, store the node ids and the features. Features will be of shape (# nodes, # features)\n",
    "data['virus'].node_id = torch.arange(len(unique_virus_ids))\n",
    "# NOTE: this data doesn't have a one-hot encoding for the taxonomy. Could maybe capture this with get_dummies()\n",
    "# problem is, there are like more than a 1000 of these.\n",
    "data['virus'].x = torch.from_numpy(viral_feats.drop(columns=['pathogenid', 'ncbi.name']).values).to(torch.float)\n",
    "\n",
    "# TODO: will need to go back and make both one-hot and ordinal versions of this data for the horder and hfamily features\n",
    "# That will add another 124 columns if one-hot encoded.  \n",
    "# TODO: Will also need to come back and deal with the 'status' feature. It says whether the animal is wild or domesticated\n",
    "# didn't realize that this wasn't already encoded better\n",
    "data['host'].node_id = torch.arange(len(unique_host_ids))\n",
    "data['host'].x = torch.from_numpy(host_feats.drop(columns=['hostid', 'host', 'horder', 'hfamily', 'status']).values).to(torch.float)\n",
    "\n",
    "# Add the edges\n",
    "data['virus', 'infects', 'host'].edge_index = edge_index_virus_to_host\n",
    "\n",
    "data = T.ToUndirected()(data)  # Add the reverse edges\n",
    "print(data)"
   ]
  },
  {
   "cell_type": "code",
   "execution_count": 6,
   "metadata": {},
   "outputs": [
    {
     "name": "stdout",
     "output_type": "stream",
     "text": [
      "Train Data:\n",
      "HeteroData(\n",
      "  virus={\n",
      "    node_id=[1885],\n",
      "    x=[1885, 30],\n",
      "  },\n",
      "  host={\n",
      "    node_id=[1312],\n",
      "    x=[1312, 63],\n",
      "  },\n",
      "  (virus, infects, host)={\n",
      "    edge_index=[2, 3468],\n",
      "    edge_label=[1486],\n",
      "    edge_label_index=[2, 1486],\n",
      "  },\n",
      "  (host, rev_infects, virus)={ edge_index=[2, 3468] }\n",
      ")\n",
      "\n",
      "Val Data:\n",
      "HeteroData(\n",
      "  virus={\n",
      "    node_id=[1885],\n",
      "    x=[1885, 30],\n",
      "  },\n",
      "  host={\n",
      "    node_id=[1312],\n",
      "    x=[1312, 63],\n",
      "  },\n",
      "  (virus, infects, host)={\n",
      "    edge_index=[2, 4954],\n",
      "    edge_label=[1857],\n",
      "    edge_label_index=[2, 1857],\n",
      "  },\n",
      "  (host, rev_infects, virus)={ edge_index=[2, 4954] }\n",
      ")\n",
      "\n",
      "Test Data:\n",
      "HeteroData(\n",
      "  virus={\n",
      "    node_id=[1885],\n",
      "    x=[1885, 30],\n",
      "  },\n",
      "  host={\n",
      "    node_id=[1312],\n",
      "    x=[1312, 63],\n",
      "  },\n",
      "  (virus, infects, host)={\n",
      "    edge_index=[2, 5573],\n",
      "    edge_label=[1857],\n",
      "    edge_label_index=[2, 1857],\n",
      "  },\n",
      "  (host, rev_infects, virus)={ edge_index=[2, 5573] }\n",
      ")\n"
     ]
    }
   ],
   "source": [
    "split_transform = T.RandomLinkSplit(\n",
    "    num_val=0.1,\n",
    "    num_test=0.1,\n",
    "    disjoint_train_ratio=0.3,\n",
    "    neg_sampling_ratio=2.0,\n",
    "    add_negative_train_samples=False,\n",
    "    edge_types=('virus', 'infects', 'host'),\n",
    "    rev_edge_types=('host', 'rev_infects', 'virus')\n",
    ")\n",
    "\n",
    "train_data, val_data, test_data = split_transform(data)\n",
    "\n",
    "print('Train Data:')\n",
    "print(train_data)\n",
    "print('\\nVal Data:')\n",
    "print(val_data)\n",
    "print('\\nTest Data:')\n",
    "print(test_data)"
   ]
  },
  {
   "cell_type": "code",
   "execution_count": 12,
   "metadata": {},
   "outputs": [
    {
     "name": "stdout",
     "output_type": "stream",
     "text": [
      "Example of a training mini-batch:\n",
      "HeteroData(\n",
      "  virus={\n",
      "    node_id=[987],\n",
      "    x=[987, 30],\n",
      "    n_id=[987],\n",
      "    num_sampled_nodes=[3],\n",
      "  },\n",
      "  host={\n",
      "    node_id=[738],\n",
      "    x=[738, 63],\n",
      "    n_id=[738],\n",
      "    num_sampled_nodes=[3],\n",
      "  },\n",
      "  (virus, infects, host)={\n",
      "    edge_index=[2, 2316],\n",
      "    edge_label=[384],\n",
      "    edge_label_index=[2, 384],\n",
      "    e_id=[2316],\n",
      "    num_sampled_edges=[2],\n",
      "    input_id=[128],\n",
      "  },\n",
      "  (host, rev_infects, virus)={\n",
      "    edge_index=[2, 2188],\n",
      "    e_id=[2188],\n",
      "    num_sampled_edges=[2],\n",
      "  }\n",
      ")\n",
      "\n",
      "Example of a validation mini-batch:\n",
      "HeteroData(\n",
      "  virus={\n",
      "    node_id=[758],\n",
      "    x=[758, 30],\n",
      "    n_id=[758],\n",
      "    num_sampled_nodes=[3],\n",
      "  },\n",
      "  host={\n",
      "    node_id=[620],\n",
      "    x=[620, 63],\n",
      "    n_id=[620],\n",
      "    num_sampled_nodes=[3],\n",
      "  },\n",
      "  (virus, infects, host)={\n",
      "    edge_index=[2, 1772],\n",
      "    edge_label=[128],\n",
      "    edge_label_index=[2, 128],\n",
      "    e_id=[1772],\n",
      "    num_sampled_edges=[2],\n",
      "    input_id=[128],\n",
      "  },\n",
      "  (host, rev_infects, virus)={\n",
      "    edge_index=[2, 1719],\n",
      "    e_id=[1719],\n",
      "    num_sampled_edges=[2],\n",
      "  }\n",
      ")\n"
     ]
    }
   ],
   "source": [
    "from torch_geometric.loader import LinkNeighborLoader\n",
    "\n",
    "# NOTE: Not exactly sure what these two lines are doing - apparently define seed edges???\n",
    "edge_label_index = train_data['virus', 'infects', 'host'].edge_label_index\n",
    "edge_label = train_data['virus', 'infects', 'host'].edge_label\n",
    "\n",
    "train_loader = LinkNeighborLoader(\n",
    "    data=train_data,\n",
    "    num_neighbors=[20, 10],\n",
    "    neg_sampling_ratio=2.0,\n",
    "    edge_label_index=(('virus', 'infects', 'host'), edge_label_index),\n",
    "    edge_label=edge_label,\n",
    "    batch_size=128,\n",
    "    shuffle=True\n",
    ")\n",
    "\n",
    "print(\"Example of a training mini-batch:\")\n",
    "print(next(iter(train_loader)))\n",
    "\n",
    "# Also set up the loader for the validation set so that we can track the performance on that as we go\n",
    "edge_label_index_val = val_data['virus', 'infects', 'host'].edge_label_index\n",
    "edge_label_val = val_data['virus', 'infects', 'host'].edge_label\n",
    "val_loader = LinkNeighborLoader(\n",
    "    data=val_data,\n",
    "    num_neighbors=[20, 10],\n",
    "    edge_label_index=(('virus', 'infects', 'host'), edge_label_index_val),\n",
    "    edge_label=edge_label_val,\n",
    "    batch_size=128,\n",
    "    shuffle=True\n",
    ")\n",
    "print(\"\\nExample of a validation mini-batch:\")\n",
    "print(next(iter(val_loader)))"
   ]
  },
  {
   "cell_type": "code",
   "execution_count": 24,
   "metadata": {},
   "outputs": [
    {
     "name": "stdout",
     "output_type": "stream",
     "text": [
      "StandardModel(\n",
      "  (gnn): GraphModule(\n",
      "    (conv1): ModuleDict(\n",
      "      (virus__infects__host): SAGEConv((-1, -1), 64, aggr=mean)\n",
      "      (host__rev_infects__virus): SAGEConv((-1, -1), 64, aggr=mean)\n",
      "    )\n",
      "    (conv2): ModuleDict(\n",
      "      (virus__infects__host): SAGEConv(64, 64, aggr=mean)\n",
      "      (host__rev_infects__virus): SAGEConv(64, 64, aggr=mean)\n",
      "    )\n",
      "    (conv3): ModuleDict(\n",
      "      (virus__infects__host): SAGEConv(64, 64, aggr=mean)\n",
      "      (host__rev_infects__virus): SAGEConv(64, 64, aggr=mean)\n",
      "    )\n",
      "    (conv4): ModuleDict(\n",
      "      (virus__infects__host): SAGEConv(64, 64, aggr=mean)\n",
      "      (host__rev_infects__virus): SAGEConv(64, 64, aggr=mean)\n",
      "    )\n",
      "    (conv5): ModuleDict(\n",
      "      (virus__infects__host): SAGEConv(64, 64, aggr=mean)\n",
      "      (host__rev_infects__virus): SAGEConv(64, 64, aggr=mean)\n",
      "    )\n",
      "    (conv6): ModuleDict(\n",
      "      (virus__infects__host): SAGEConv(64, 64, aggr=mean)\n",
      "      (host__rev_infects__virus): SAGEConv(64, 64, aggr=mean)\n",
      "    )\n",
      "    (conv7): ModuleDict(\n",
      "      (virus__infects__host): SAGEConv(64, 64, aggr=mean)\n",
      "      (host__rev_infects__virus): SAGEConv(64, 64, aggr=mean)\n",
      "    )\n",
      "  )\n",
      "  (classifier): Classifier()\n",
      ")\n"
     ]
    }
   ],
   "source": [
    "from models.standard import StandardModel\n",
    "\n",
    "# For the mammalian data, the number of features is like 30 and 60.\n",
    "model = StandardModel(hidden_channels=64, metadata=data.metadata())\n",
    "print(model)"
   ]
  },
  {
   "cell_type": "code",
   "execution_count": 25,
   "metadata": {},
   "outputs": [
    {
     "name": "stdout",
     "output_type": "stream",
     "text": [
      "Selected device:  cuda\n"
     ]
    },
    {
     "name": "stderr",
     "output_type": "stream",
     "text": [
      "100%|██████████| 12/12 [00:00<00:00, 29.48it/s]\n",
      "100%|██████████| 15/15 [00:00<00:00, 107.46it/s]\n"
     ]
    },
    {
     "name": "stdout",
     "output_type": "stream",
     "text": [
      "Epoch: 0, Train Loss: 20030152468846.6016, Validation Loss: 1124146216960.0, AUROC: 0.6334256356988315\n"
     ]
    },
    {
     "name": "stderr",
     "output_type": "stream",
     "text": [
      "100%|██████████| 12/12 [00:00<00:00, 55.03it/s]\n",
      "100%|██████████| 15/15 [00:00<00:00, 107.51it/s]\n"
     ]
    },
    {
     "name": "stdout",
     "output_type": "stream",
     "text": [
      "Epoch: 1, Train Loss: 490453687184.3661, Validation Loss: 123512954880.0, AUROC: 0.665757997290956\n"
     ]
    },
    {
     "name": "stderr",
     "output_type": "stream",
     "text": [
      "100%|██████████| 12/12 [00:00<00:00, 55.03it/s]\n",
      "100%|██████████| 15/15 [00:00<00:00, 103.77it/s]\n"
     ]
    },
    {
     "name": "stdout",
     "output_type": "stream",
     "text": [
      "Epoch: 2, Train Loss: 84241166027.2840, Validation Loss: 35078991872.0, AUROC: 0.6864868814936803\n"
     ]
    },
    {
     "name": "stderr",
     "output_type": "stream",
     "text": [
      "100%|██████████| 12/12 [00:00<00:00, 51.71it/s]\n",
      "100%|██████████| 15/15 [00:00<00:00, 104.14it/s]\n"
     ]
    },
    {
     "name": "stdout",
     "output_type": "stream",
     "text": [
      "Epoch: 3, Train Loss: 32207240320.1723, Validation Loss: 50043678720.0, AUROC: 0.739015714020999\n"
     ]
    },
    {
     "name": "stderr",
     "output_type": "stream",
     "text": [
      "100%|██████████| 12/12 [00:00<00:00, 55.54it/s]\n",
      "100%|██████████| 15/15 [00:00<00:00, 106.74it/s]\n"
     ]
    },
    {
     "name": "stdout",
     "output_type": "stream",
     "text": [
      "Epoch: 4, Train Loss: 17875734803.6393, Validation Loss: 25446350848.0, AUROC: 0.6799856979181075\n"
     ]
    },
    {
     "name": "stderr",
     "output_type": "stream",
     "text": [
      "100%|██████████| 12/12 [00:00<00:00, 46.41it/s]\n",
      "100%|██████████| 15/15 [00:00<00:00, 107.50it/s]\n"
     ]
    },
    {
     "name": "stdout",
     "output_type": "stream",
     "text": [
      "Epoch: 5, Train Loss: 17667160117.7497, Validation Loss: 28598003712.0, AUROC: 0.6794311007644305\n"
     ]
    },
    {
     "name": "stderr",
     "output_type": "stream",
     "text": [
      "100%|██████████| 12/12 [00:00<00:00, 55.60it/s]\n",
      "100%|██████████| 15/15 [00:00<00:00, 107.51it/s]\n"
     ]
    },
    {
     "name": "stdout",
     "output_type": "stream",
     "text": [
      "Epoch: 6, Train Loss: 12164495604.6299, Validation Loss: 11932547072.0, AUROC: 0.7209671652386334\n"
     ]
    },
    {
     "name": "stderr",
     "output_type": "stream",
     "text": [
      "100%|██████████| 12/12 [00:00<00:00, 55.29it/s]\n",
      "100%|██████████| 15/15 [00:00<00:00, 107.88it/s]\n"
     ]
    },
    {
     "name": "stdout",
     "output_type": "stream",
     "text": [
      "Epoch: 7, Train Loss: 9986930857.5182, Validation Loss: 15526190080.0, AUROC: 0.7202233525854667\n"
     ]
    },
    {
     "name": "stderr",
     "output_type": "stream",
     "text": [
      "100%|██████████| 12/12 [00:00<00:00, 55.03it/s]\n",
      "100%|██████████| 15/15 [00:00<00:00, 109.07it/s]\n"
     ]
    },
    {
     "name": "stdout",
     "output_type": "stream",
     "text": [
      "Epoch: 8, Train Loss: 7512908363.1117, Validation Loss: 15747150848.0, AUROC: 0.6981386414588123\n"
     ]
    },
    {
     "name": "stderr",
     "output_type": "stream",
     "text": [
      "100%|██████████| 12/12 [00:00<00:00, 55.54it/s]\n",
      "100%|██████████| 15/15 [00:00<00:00, 105.61it/s]"
     ]
    },
    {
     "name": "stdout",
     "output_type": "stream",
     "text": [
      "Epoch: 9, Train Loss: 5854287804.4684, Validation Loss: 10191218688.0, AUROC: 0.7390131041520406\n"
     ]
    },
    {
     "name": "stderr",
     "output_type": "stream",
     "text": [
      "\n"
     ]
    }
   ],
   "source": [
    "from tqdm import tqdm\n",
    "import torch.nn.functional as F\n",
    "from sklearn.metrics import roc_auc_score\n",
    "\n",
    "print('Selected device: ', device)\n",
    "\n",
    "model = model.to(device)\n",
    "optimizer = torch.optim.Adam(model.parameters(), lr=1e-3)\n",
    "\n",
    "train_loss_hist = []\n",
    "val_loss_hist = []\n",
    "for epoch in range(10):\n",
    "    epoch_loss = epoch_size = 0\n",
    "\n",
    "    model.train()\n",
    "    for sampled_data in tqdm(train_loader):\n",
    "        optimizer.zero_grad()\n",
    "\n",
    "        sampled_data = sampled_data.to(device)\n",
    "        pred = model(sampled_data)\n",
    "        \n",
    "        labels = sampled_data['virus', 'infects', 'host'].edge_label\n",
    "        loss = F.binary_cross_entropy_with_logits(pred, labels)\n",
    "        \n",
    "        loss.backward()\n",
    "        optimizer.step()\n",
    "\n",
    "        epoch_loss += float(loss) * pred.numel()  # Default reduction is mean so multiplying by num elements recovers sum\n",
    "        epoch_size += pred.numel()\n",
    "\n",
    "    if epoch % 1 == 0:  # This is to control how often we validate. For now do every epoch since num epochs is low\n",
    "        # NOTE: for now I'm just using AUROC since it's standard, but we should be using AUCPR instead \n",
    "        model.eval()\n",
    "        val_preds = []\n",
    "        val_labels = []\n",
    "        for sampled_data in tqdm(val_loader):\n",
    "            with torch.no_grad():\n",
    "                sampled_data = sampled_data.to(device)\n",
    "                val_preds.append(model(sampled_data))\n",
    "                val_labels.append(sampled_data['virus', 'infects', 'host'].edge_label)\n",
    "            \n",
    "        val_preds = torch.cat(val_preds, dim=0)\n",
    "        val_labels = torch.cat(val_labels, dim=0)\n",
    "        val_loss = F.binary_cross_entropy_with_logits(val_preds, val_labels).cpu().item()\n",
    "        val_loss_hist.append(val_loss)\n",
    "        auroc = roc_auc_score(val_labels.cpu().numpy(), val_preds.cpu().numpy())\n",
    "    \n",
    "    print(f'Epoch: {epoch}, Train Loss: {epoch_loss / epoch_size:.4f}, Validation Loss: {val_loss}, AUROC: {auroc}')\n",
    "    train_loss_hist.append(epoch_loss / epoch_size)"
   ]
  },
  {
   "cell_type": "code",
   "execution_count": 28,
   "metadata": {},
   "outputs": [
    {
     "data": {
      "image/png": "[encoded data removed]",
      "text/plain": [
       "<Figure size 640x480 with 1 Axes>"
      ]
     },
     "metadata": {},
     "output_type": "display_data"
    }
   ],
   "source": [
    "import matplotlib.pyplot as plt\n",
    "import numpy as np\n",
    "\n",
    "plt.figure()\n",
    "plt.plot(np.arange(1, 11), train_loss_hist, label='Train')\n",
    "plt.plot(np.arange(1, 11), val_loss_hist, label='Val')\n",
    "plt.title('Learning Curves')\n",
    "plt.xlabel('Epoch #')\n",
    "plt.ylabel('Loss')\n",
    "plt.legend()\n",
    "plt.show()"
   ]
  },
  {
   "cell_type": "code",
   "execution_count": 30,
   "metadata": {},
   "outputs": [
    {
     "data": {
      "image/png": "[encoded data removed]",
      "text/plain": [
       "<Figure size 640x480 with 1 Axes>"
      ]
     },
     "metadata": {},
     "output_type": "display_data"
    }
   ],
   "source": [
    "from sklearn.metrics import RocCurveDisplay\n",
    "\n",
    "RocCurveDisplay.from_predictions(val_labels.cpu().numpy(), val_preds.cpu().numpy())\n",
    "plt.show()"
   ]
  }
 ],
 "metadata": {
  "kernelspec": {
   "display_name": "Python 3",
   "language": "python",
   "name": "python3"
  },
  "language_info": {
   "codemirror_mode": {
    "name": "ipython",
    "version": 3
   },
   "file_extension": ".py",
   "mimetype": "text/x-python",
   "name": "python",
   "nbconvert_exporter": "python",
   "pygments_lexer": "ipython3",
   "version": "3.12.7"
  }
 },
 "nbformat": 4,
 "nbformat_minor": 2
}
